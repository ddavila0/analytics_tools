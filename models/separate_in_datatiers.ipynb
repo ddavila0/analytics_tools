{
 "cells": [
  {
   "cell_type": "markdown",
   "metadata": {},
   "source": [
    "# This script splits a dataset into 4 different classes of records:\n",
    " 1. MINI - jobs that access datasets wich belongs to the datatiers MINIAOD and MINIAODSIM\n",
    " 2. NANO - jobs that access datasets in the datatier NANOAOD\n",
    " 3. ADO  - jobs that access datasets in the datatier AOD\n",
    " 4. REST - jobs that access datasets not in any of the datatiers listed above"
   ]
  },
  {
   "cell_type": "code",
   "execution_count": 1,
   "metadata": {},
   "outputs": [],
   "source": [
    "import pandas as pd\n",
    "import glob"
   ]
  },
  {
   "cell_type": "markdown",
   "metadata": {},
   "source": [
    "# Part 1. dataset access data split\n",
    "The following code will separete the dataset access into 4 different datatier classes"
   ]
  },
  {
   "cell_type": "code",
   "execution_count": null,
   "metadata": {},
   "outputs": [],
   "source": [
    "# This is where the input files are found and where the ouput files will be written\n",
    "basepath=\"/Users/ddavila/projects/DOMA/data/model/datatiers/\"\n",
    "list_of_files = glob.glob(basepath+\"data_tier_days_*\")\n",
    "\n",
    "# The 4 categories, used to build a prefix for the output files\n",
    "tiers_map=[\"MINI\", \"NANO\", \"ADO\", \"REST\"]\n",
    "\n",
    "# Print the list of files that will be divided\n",
    "list_of_files"
   ]
  },
  {
   "cell_type": "code",
   "execution_count": null,
   "metadata": {},
   "outputs": [],
   "source": [
    "# For each input file, filter the records of a given category (i = {0,1,2,3})\n",
    "# and save a file with a prefix of that category\n",
    "for file in list_of_files:\n",
    "    alltiers_df = pd.read_parquet(file)\n",
    "    for i in range(0,4):\n",
    "        tier_df = alltiers_df[alltiers_df['data_data_tier_name_class']==i]\n",
    "        outputfile_sufix = \"_\"+tiers_map[i]+\".parquet\"\n",
    "        outputfile=file.replace(\".parquet\", outputfile_sufix)\n",
    "        # print the output files \n",
    "        print(outputfile)\n",
    "        tier_df.to_parquet(outputfile)"
   ]
  },
  {
   "cell_type": "markdown",
   "metadata": {},
   "source": [
    "# Part 2 datasets creation data\n",
    "The following code will separate the information about datasets into the 4 different datatier classes"
   ]
  },
  {
   "cell_type": "code",
   "execution_count": 10,
   "metadata": {},
   "outputs": [],
   "source": [
    "basepath=\"/Users/ddavila/projects/DOMA/data/model/\"\n",
    "file = basepath + \"dataset_dates.parquet\"\n",
    "alltiers_df = pd.read_parquet(file)"
   ]
  },
  {
   "cell_type": "code",
   "execution_count": 11,
   "metadata": {},
   "outputs": [
    {
     "name": "stdout",
     "output_type": "stream",
     "text": [
      "/Users/ddavila/projects/DOMA/data/model/dataset_dates_MINI.parquet\n",
      "/Users/ddavila/projects/DOMA/data/model/dataset_dates_NANO.parquet\n",
      "/Users/ddavila/projects/DOMA/data/model/dataset_dates_ADO.parquet\n",
      "/Users/ddavila/projects/DOMA/data/model/dataset_dates_REST.parquet\n"
     ]
    }
   ],
   "source": [
    "# The 4 categories, used to build a prefix for the output files\n",
    "tiers_map=[\"MINI\", \"NANO\", \"ADO\", \"REST\"]\n",
    "for i in range(0,4):\n",
    "    tier_df = alltiers_df[alltiers_df['data_data_tier_name_class']==i]\n",
    "    outputfile_sufix = \"_\"+tiers_map[i]+\".parquet\"\n",
    "    outputfile=file.replace(\".parquet\", outputfile_sufix)\n",
    "    tier_df.to_parquet(outputfile)\n",
    "    print(outputfile)"
   ]
  },
  {
   "cell_type": "code",
   "execution_count": null,
   "metadata": {},
   "outputs": [],
   "source": []
  }
 ],
 "metadata": {
  "kernelspec": {
   "display_name": "Python 3",
   "language": "python",
   "name": "python3"
  },
  "language_info": {
   "codemirror_mode": {
    "name": "ipython",
    "version": 3
   },
   "file_extension": ".py",
   "mimetype": "text/x-python",
   "name": "python",
   "nbconvert_exporter": "python",
   "pygments_lexer": "ipython3",
   "version": "3.7.3"
  }
 },
 "nbformat": 4,
 "nbformat_minor": 2
}
