{
 "cells": [
  {
   "cell_type": "code",
   "execution_count": null,
   "metadata": {},
   "outputs": [],
   "source": [
    "# This script will create a table like this:\n",
    "#|dataset_id|d_creation_date|d_last_modification_date|first_access_day|\n",
    "import numpy as np\n",
    "import pandas as pd\n",
    "import matplotlib.pyplot as plt\n",
    "import glob\n",
    "from algorithmUtils import *"
   ]
  },
  {
   "cell_type": "code",
   "execution_count": null,
   "metadata": {},
   "outputs": [],
   "source": [
    "def plot_deltas(days_path, dataset_dates_df, datatier, save):\n",
    "    dataset_first_access = dict()\n",
    "    # For each of the days\n",
    "    for day in days_df.day_ts.values:\n",
    "        # For each of the datasets accessed in a given day\n",
    "        for dataset in days_df[days_df['day_ts'] == day].datasets_set.values[0]:\n",
    "            # If the dataset is not in our dictionary that means this 'day' is\n",
    "            # the first recorded access to that dataset\n",
    "            if dataset not in dataset_first_access:\n",
    "                dataset_first_access[dataset]=day\n",
    "    # Create a pandas DataFrame 'first_access_df' from the Dictionary 'dataset_first_access'\n",
    "    first_access_df = pd.DataFrame(data=dataset_first_access.items(), columns=[\"d_dataset_id\", \"first_access_day\"])\n",
    "    # Concatenate the columns in both 'dataset_dates_df' and 'first_access_df' when both records\n",
    "    # have the same dataset ID (d_dataset_id) \n",
    "    all_dates = pd.merge(dataset_dates_df, first_access_df, how=\"right\", on=\"d_dataset_id\")\n",
    "    if all_dates.isnull().values.any() == True:\n",
    "        print(\"ERROR: There are NaNs after merge\")\n",
    "     \n",
    "    # Calculate delta between first access and creation and last_modification dates\n",
    "    all_dates['creation_delta_days'] = (all_dates['first_access_day'] - all_dates['d_creation_date'])/(3600*24) \n",
    "    all_dates['modification_delta_days'] = (all_dates['first_access_day'] - all_dates['d_last_modification_date'])/(3600*24) \n",
    "\n",
    "    # Create plots\n",
    "    fig1 = plt.figure(figsize=(10,5))\n",
    "    plt.hist('modification_delta_days', bins=100, data=all_dates)\n",
    "    fig1.suptitle(\"Modification delta - \"+datatier, fontsize=20)\n",
    "    plt.ylabel('Datasets count', fontsize=15)\n",
    "    plt.xlabel('Days between first access and last_modification date', fontsize=15)\n",
    "    \n",
    "    fig2 = plt.figure(figsize=(10,5))\n",
    "    plt.hist('creation_delta_days', bins=100, data=all_dates)\n",
    "    fig2.suptitle(\"Creation delta - \"+datatier, fontsize=20)\n",
    "    plt.ylabel('Datasets count', fontsize=15)\n",
    "    plt.xlabel('Days between first access and creation date', fontsize=15)\n",
    "\n",
    "\n",
    "    \n",
    "    if save == True:\n",
    "        filename1= \"/Users/ddavila/projects/DOMA/analytics_tools/models/doc/figures/delta_modification_\"+datatier+\".png\"\n",
    "        filename2= \"/Users/ddavila/projects/DOMA/analytics_tools/models/doc/figures/delta_creation_\"+datatier+\".png\"\n",
    "        fig1.savefig(filename1)\n",
    "        fig2.savefig(filename2)"
   ]
  },
  {
   "cell_type": "code",
   "execution_count": null,
   "metadata": {},
   "outputs": [],
   "source": [
    "basepath=\"/Users/ddavila/projects/DOMA/data/model/\"\n",
    "\n",
    "dataset_dates_path = basepath + \"dataset_dates.parquet\"\n",
    "dataset_dates_df = pd.read_parquet(dataset_dates_path)\n",
    "# Remove all datasets that were created before May 31st, 2018\n",
    "# because we start taking data on June 1st, 2018\n",
    "dataset_dates_df= dataset_dates_df[dataset_dates_df['d_creation_date'] > 1527724800]\n",
    "\n",
    "datasets_size_path = basepath+\"dataset.parquet\"\n"
   ]
  },
  {
   "cell_type": "code",
   "execution_count": null,
   "metadata": {},
   "outputs": [],
   "source": [
    "for datatier in [\"NANO\", \"MINI\", \"ADO\", \"REST\"]:\n",
    "#for datatier in [\"NANO\"]:\n",
    "    days_path= basepath+\"datatiers/data_tier_days_*_\"+datatier+\".parquet\"\n",
    "    days_df, _, _ = get_input_data(days_path, datasets_size_path)\n",
    "    plot_deltas(days_df, dataset_dates_df, datatier, True)"
   ]
  }
 ],
 "metadata": {
  "kernelspec": {
   "display_name": "Python 3",
   "language": "python",
   "name": "python3"
  },
  "language_info": {
   "codemirror_mode": {
    "name": "ipython",
    "version": 3
   },
   "file_extension": ".py",
   "mimetype": "text/x-python",
   "name": "python",
   "nbconvert_exporter": "python",
   "pygments_lexer": "ipython3",
   "version": "3.7.3"
  }
 },
 "nbformat": 4,
 "nbformat_minor": 2
}
