{
 "cells": [
  {
   "cell_type": "code",
   "execution_count": null,
   "metadata": {},
   "outputs": [],
   "source": [
    "import pandas as pd\n",
    "import matplotlib.pyplot as plt\n",
    "from datetime import datetime"
   ]
  },
  {
   "cell_type": "code",
   "execution_count": null,
   "metadata": {},
   "outputs": [],
   "source": [
    "def plot_metric(week_dates, metric, legends, title): \n",
    "    to_plot_list=[]\n",
    "    to_plot_list.append(week_dates)\n",
    "    metric_size_per_week_per_policy = report_df[metric].values\n",
    "    for i in metric_size_per_week_per_policy:\n",
    "        to_plot_list.append(i)\n",
    "        \n",
    "    to_plot_df = pd.DataFrame(to_plot_list)\n",
    "    to_plot_df_T = to_plot_df.T\n",
    "    to_plot_df_T.columns= legends\n",
    "    plt.figure(figsize=(20,10))\n",
    "  \n",
    "    for i in range(1, len(legends)):\n",
    "        plt.plot( 'date', legends[i], data=to_plot_df_T)\n",
    "    plt.legend()\n",
    "    plt.xticks(week_dates, rotation=45)"
   ]
  },
  {
   "cell_type": "code",
   "execution_count": null,
   "metadata": {},
   "outputs": [],
   "source": [
    "# Read the report\n",
    "report_df= pd.read_parquet(\"/Users/ddavila/projects/DOMA/data/model/reports/072018_062019_p1_3\")\n",
    "\n",
    "# Get a list of human readable dates from the timestmps on the report DataFrame\n",
    "# to be used for the xticks \n",
    "week_dates= []\n",
    "for week_ts in report_df.weeks_ts.values[0]:\n",
    "    #print(week_ts)\n",
    "    week_date = datetime.utcfromtimestamp(week_ts).strftime('%Y-%m-%d')\n",
    "    week_dates.append(week_date)\n",
    "    \n",
    "# Create the legends list\n",
    "legends=[\"date\"]\n",
    "for i in report_df.policy.values:\n",
    "    legend = str(i)+\"week\"\n",
    "    legends.append(legend)"
   ]
  },
  {
   "cell_type": "code",
   "execution_count": null,
   "metadata": {},
   "outputs": [],
   "source": [
    "plot_metric(week_dates, \"ws_size_per_week_per_policy\", legends, \"Workingset size per week\")"
   ]
  },
  {
   "cell_type": "code",
   "execution_count": null,
   "metadata": {},
   "outputs": [],
   "source": [
    "plot_metric(week_dates, \"recalled_size_per_week_per_policy\", legends, \"Recalled size per week\")"
   ]
  },
  {
   "cell_type": "code",
   "execution_count": null,
   "metadata": {},
   "outputs": [],
   "source": [
    "plot_metric(week_dates, \"freed_size_per_week_per_policy\", legends, \"Freed size per week\")"
   ]
  }
 ],
 "metadata": {
  "kernelspec": {
   "display_name": "Python 3",
   "language": "python",
   "name": "python3"
  },
  "language_info": {
   "codemirror_mode": {
    "name": "ipython",
    "version": 3
   },
   "file_extension": ".py",
   "mimetype": "text/x-python",
   "name": "python",
   "nbconvert_exporter": "python",
   "pygments_lexer": "ipython3",
   "version": "3.7.3"
  }
 },
 "nbformat": 4,
 "nbformat_minor": 2
}
