{
 "cells": [
  {
   "cell_type": "code",
   "execution_count": null,
   "metadata": {},
   "outputs": [],
   "source": [
    "import pandas as pd\n",
    "import matplotlib.pyplot as plt\n",
    "from datetime import datetime\n",
    "pd.set_option('display.max_colwidth', -1)\n",
    "pd.set_option('display.max_rows', 500)\n",
    "pd.set_option('display.max_columns', 500)\n",
    "pd.set_option('display.width', 1000)"
   ]
  },
  {
   "cell_type": "code",
   "execution_count": null,
   "metadata": {},
   "outputs": [],
   "source": [
    "def plot_metric(week_dates, metric, legends, title, save=False): \n",
    "    to_plot_list=[]\n",
    "    to_plot_list.append(week_dates)\n",
    "    metric_size_per_week_per_policy = report_df[metric].values\n",
    "    for i in metric_size_per_week_per_policy:\n",
    "        to_plot_list.append(i)\n",
    "        \n",
    "    to_plot_df = pd.DataFrame(to_plot_list)\n",
    "    to_plot_df_T = to_plot_df.T\n",
    "    to_plot_df_T.columns= legends\n",
    "    fig = plt.figure(figsize=(20,10))\n",
    "  \n",
    "    for i in range(1, len(legends)):\n",
    "        plt.plot( 'date', legends[i], data=to_plot_df_T)\n",
    "    plt.legend()\n",
    "    plt.xticks(week_dates, rotation=45)\n",
    "    plt.ylabel('Bytes', fontsize=18)\n",
    "    fig.suptitle(title, fontsize=20)\n",
    "    if save:\n",
    "        filename = \"/Users/ddavila/projects/DOMA/data/model/reports/figures/\"\n",
    "        filename = filename + title.replace(\" \", \"_\")+\".png\"\n",
    "        fig.savefig(filename)\n",
    "    "
   ]
  },
  {
   "cell_type": "code",
   "execution_count": null,
   "metadata": {
    "scrolled": false
   },
   "outputs": [],
   "source": [
    "for datatier in [\"NANO\", \"MINI\", \"ADO\", \"REST\"]:\n",
    "    # Read the report\n",
    "    inputfile=\"/Users/ddavila/projects/DOMA/data/model/reports/072018_062019_p1_12_\"+datatier+\"-v2.0\"\n",
    "\n",
    "    report_df= pd.read_parquet(inputfile)\n",
    "    a1= report_df['policy']==1\n",
    "    a3= report_df['policy']==3\n",
    "    a6= report_df['policy']==6\n",
    "    a12= report_df['policy']==12\n",
    "\n",
    "\n",
    "    report_df = report_df[a1 | a3 | a6 | a12]\n",
    "    # Get a list of human readable dates from the timestmps on the report DataFrame\n",
    "    # to be used for the xticks \n",
    "    week_dates= []\n",
    "    for week_ts in report_df.weeks_ts.values[0]:\n",
    "        #print(week_ts)\n",
    "        week_date = datetime.utcfromtimestamp(week_ts).strftime('%Y-%m-%d')\n",
    "        week_dates.append(week_date)\n",
    "\n",
    "    # Create the legends list\n",
    "    legends=[\"date\"]\n",
    "    for i in report_df.policy.values:\n",
    "        legend = str(i)+\"wk\"\n",
    "        legends.append(legend)\n",
    "\n",
    "    save=True\n",
    "    plot_metric(week_dates, \"ws_size_per_week_per_policy\", legends, \"Workingset size per week \"+datatier, save)\n",
    "    plot_metric(week_dates, \"recalled_size_per_week_per_policy\", legends, \"Recalled size per week \"+datatier, save)\n",
    "    plot_metric(week_dates, \"freed_size_per_week_per_policy\", legends, \"Freed size per week \"+datatier, save)\n",
    "    \n",
    "    df=report_df\n",
    "    df['max_recalled_week'] = pd.to_datetime(df['max_recalled_week_ts'], unit='s').dt.date\n",
    "    df['max_recalled_day'] = pd.to_datetime(df['max_recalled_day_ts'], unit='s').dt.date\n",
    "    df = df[['policy', 'max_recalled_per_day', 'max_recalled_day', 'max_workingset_size','total_recalled', 'total_freed']]\n",
    "    print(datatier)\n",
    "    print(df)"
   ]
  },
  {
   "cell_type": "code",
   "execution_count": null,
   "metadata": {},
   "outputs": [],
   "source": []
  }
 ],
 "metadata": {
  "kernelspec": {
   "display_name": "Python 3",
   "language": "python",
   "name": "python3"
  },
  "language_info": {
   "codemirror_mode": {
    "name": "ipython",
    "version": 3
   },
   "file_extension": ".py",
   "mimetype": "text/x-python",
   "name": "python",
   "nbconvert_exporter": "python",
   "pygments_lexer": "ipython3",
   "version": "3.7.3"
  }
 },
 "nbformat": 4,
 "nbformat_minor": 2
}
