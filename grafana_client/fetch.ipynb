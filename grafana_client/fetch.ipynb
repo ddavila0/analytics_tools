{
 "cells": [
  {
   "cell_type": "code",
   "execution_count": null,
   "metadata": {},
   "outputs": [],
   "source": [
    "import requests\n",
    "import json\n",
    "import pandas as pd\n",
    "from datetime import datetime as dt\n",
    "from datetime import timezone\n",
    "from dateutil import parser\n",
    "\n",
    "# Show all columns when printing a pandas DataFrame\n",
    "pd.options.display.max_columns = None"
   ]
  },
  {
   "cell_type": "code",
   "execution_count": null,
   "metadata": {},
   "outputs": [],
   "source": [
    "# Craetes a list of the fileds with a file as input\n",
    "def read_fields(filename):\n",
    "    fields = []\n",
    "    fd = open(filename)\n",
    "    lines = fd.readlines()\n",
    "    for line in lines:\n",
    "        fields.append(\"data.\"+line[:-1])\n",
    "    fd.close()\n",
    "    return fields\n",
    "\n",
    "def remove_dot_data(fields):\n",
    "    fields_no_data=[]\n",
    "    for field in fields:\n",
    "        field_no_data = field.replace(\"data.\",\"\")\n",
    "        fields_no_data.append(field_no_data)\n",
    "    return fields_no_data\n",
    "\n",
    "def read_token(filename):\n",
    "    fd = open(filename)\n",
    "    line = fd.readline()\n",
    "    # Remove the 'newline' character if found\n",
    "    if line[len(line)-1] == '\\n':\n",
    "        line = line[:-1]\n",
    "    fd.close()\n",
    "    return line"
   ]
  },
  {
   "cell_type": "code",
   "execution_count": null,
   "metadata": {},
   "outputs": [],
   "source": [
    "# Where to get the authorization token\n",
    "file_token=\"./token\"\n",
    "\n",
    "# Where to get the list of fields to retrieve\n",
    "file_fields=\"./fields\"\n",
    "\n",
    "# Read the authorization token\n",
    "token = read_token(file_token)\n",
    "headers = {'Authorization': 'Bearer '+token,}\n",
    "\n",
    "# Set the start(min) and end(max) dates to perform the query onto\n",
    "min_date_human_readable = \"Jun 6 10:00:00 UTC 2019\"\n",
    "max_date_human_readable = \"Jun 6 10:59:00 UTC 2019\"\n",
    "\n",
    "# Get timestamps in miliseconds\n",
    "min_date = str(int(parser.parse(min_date_human_readable).timestamp() * 1000))\n",
    "max_date = str(int(parser.parse(max_date_human_readable).timestamp() * 1000))\n",
    "\n",
    "# The query on lucene syntaxis\n",
    "query =               \"data.Type:analysis\"\n",
    "query = query + \" AND  data.Status:Completed\"\n",
    "query = query + \" AND  data.JobUniverse:5\"\n",
    "\n",
    "# Read the list of fields to retrieve from a file\n",
    "fields = read_fields(file_fields)\n",
    "fields_no_data = remove_dot_data(fields)\n",
    "\n",
    "# Number of records to retreive\n",
    "num_records = 100"
   ]
  },
  {
   "cell_type": "code",
   "execution_count": null,
   "metadata": {},
   "outputs": [],
   "source": [
    "print(\"Query:\")\n",
    "print(query)\n",
    "print(\"Fields no data:\")\n",
    "print(fields_no_data)\n",
    "\n",
    "data = {\n",
    "        \"size\":num_records,\n",
    "        \"query\":{\n",
    "            \"bool\":{\n",
    "                \"filter\":[\n",
    "                    {\"range\":{\"data.RecordTime\":{\"gte\":min_date,\"lte\":max_date,\"format\":\"epoch_millis\"}}},\n",
    "                    {\"query_string\":{\n",
    "                        \"analyze_wildcard\":\"true\",\n",
    "                        \"query\":query\n",
    "                        }\n",
    "                    }\n",
    "                ]\n",
    "            }\n",
    "        },\n",
    "        \"_source\":fields\n",
    "}\n",
    "\n",
    "data_string = json.dumps(data)"
   ]
  },
  {
   "cell_type": "code",
   "execution_count": null,
   "metadata": {},
   "outputs": [],
   "source": [
    "# Send the query (It takes few seconds)\n",
    "response = requests.get('https://monit-grafana.cern.ch/api/datasources/proxy/9014/_search', headers=headers, data=data_string)\n"
   ]
  },
  {
   "cell_type": "code",
   "execution_count": null,
   "metadata": {},
   "outputs": [],
   "source": [
    "# Get the data from the response\n",
    "d = response.json()\n",
    "# Create a pandas DataFrame with the data retreived\n",
    "clean_records=[]\n",
    "for record in d['hits']['hits']:\n",
    "    clean_record= record['_source']['data']\n",
    "    clean_records.append(clean_record)\n",
    "df = pd.DataFrame(clean_records) "
   ]
  },
  {
   "cell_type": "code",
   "execution_count": null,
   "metadata": {},
   "outputs": [],
   "source": [
    "# Print the DataFrame\n",
    "df"
   ]
  }
 ],
 "metadata": {
  "kernelspec": {
   "display_name": "Python 3",
   "language": "python",
   "name": "python3"
  },
  "language_info": {
   "codemirror_mode": {
    "name": "ipython",
    "version": 3
   },
   "file_extension": ".py",
   "mimetype": "text/x-python",
   "name": "python",
   "nbconvert_exporter": "python",
   "pygments_lexer": "ipython3",
   "version": "3.7.3"
  }
 },
 "nbformat": 4,
 "nbformat_minor": 2
}
